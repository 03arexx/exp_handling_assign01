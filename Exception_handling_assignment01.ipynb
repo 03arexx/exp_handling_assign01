{
 "cells": [
  {
   "cell_type": "markdown",
   "id": "96187a16-88d8-4a01-a9fd-8c34cdd146cd",
   "metadata": {},
   "source": [
    "1.What is exception in python? what is the difference between exception and syntax error?"
   ]
  },
  {
   "cell_type": "markdown",
   "id": "aa5d48bd-e069-4766-ac1f-ee8d0435a1dc",
   "metadata": {},
   "source": [
    "Exceptions are raised when some internal events occur which changes the normal flow of the program. \n",
    "\n",
    "When the proper syntax of the language is not followed then a syntax error is thrown.\n",
    "When in the runtime an error that occurs after passing the syntax test is called exception or logical type\n"
   ]
  },
  {
   "cell_type": "markdown",
   "id": "3247bbdb-7802-4866-851d-ec6d928abbac",
   "metadata": {},
   "source": [
    "2. what happen when exception is not handled? Explain with an example."
   ]
  },
  {
   "cell_type": "raw",
   "id": "fce7f0cf-f6db-460b-b6f9-9b4e0edbea9c",
   "metadata": {},
   "source": [
    "when exception is not handled it will throw an error like zero division , type,key ,attributes,nomodulesfound etc"
   ]
  },
  {
   "cell_type": "code",
   "execution_count": 2,
   "id": "a9ac225c-5280-4efd-bff0-a1f8d65db013",
   "metadata": {},
   "outputs": [
    {
     "name": "stdout",
     "output_type": "stream",
     "text": [
      "division by zero\n"
     ]
    }
   ],
   "source": [
    "#for example\n",
    "try:\n",
    "    a=45/0\n",
    "except ZeroDivisionError as e:\n",
    "    print(e)"
   ]
  },
  {
   "cell_type": "code",
   "execution_count": 4,
   "id": "772c5220-a22b-4a24-b513-b893f60aefaa",
   "metadata": {},
   "outputs": [
    {
     "name": "stdout",
     "output_type": "stream",
     "text": [
      "No module named 'reshad'\n"
     ]
    }
   ],
   "source": [
    "#another example\n",
    "try:\n",
    "    import reshad\n",
    "except ModuleNotFoundError as e:\n",
    "    print(e)"
   ]
  },
  {
   "cell_type": "markdown",
   "id": "e8480077-6500-491f-8935-8d11c4b24ee2",
   "metadata": {},
   "source": [
    "3.Which python statement are used to catch and handled exception ? Explain with an example."
   ]
  },
  {
   "cell_type": "markdown",
   "id": "674b8461-e438-4568-ad00-dea266951ac7",
   "metadata": {},
   "source": [
    "TRY and EXCEPT blocks are used to catch and handled exception.\n",
    "\n"
   ]
  },
  {
   "cell_type": "code",
   "execution_count": 5,
   "id": "788375d6-8ce2-43b4-9ffb-54480ffc1c87",
   "metadata": {},
   "outputs": [
    {
     "name": "stdout",
     "output_type": "stream",
     "text": [
      "can only concatenate str (not \"int\") to str\n"
     ]
    }
   ],
   "source": [
    "#for ex\n",
    "try:\n",
    "    'abc'+ 56\n",
    "except TypeError as e:\n",
    "    print(e)"
   ]
  },
  {
   "cell_type": "markdown",
   "id": "af8255b5-5124-42ff-8069-165e1008afc1",
   "metadata": {},
   "source": [
    "4.Explain with an example.\n",
    "  1.try and else\n",
    "  2.finally\n",
    "  3.raise"
   ]
  },
  {
   "cell_type": "code",
   "execution_count": 6,
   "id": "a5eb5f92-3355-4e09-9a83-3ed31305f937",
   "metadata": {},
   "outputs": [
    {
     "name": "stdout",
     "output_type": "stream",
     "text": [
      "else will execute ,once try will excetute\n"
     ]
    }
   ],
   "source": [
    "try:\n",
    "    x= open('reshad.txt','w')\n",
    "    x.write('i am reshad')\n",
    "except:\n",
    "    print('no error')\n",
    "else:\n",
    "    print('else will execute ,once try will excetute')\n",
    "    "
   ]
  },
  {
   "cell_type": "code",
   "execution_count": 7,
   "id": "4a7c9bb0-66bc-443e-b758-5da58d5c101d",
   "metadata": {},
   "outputs": [
    {
     "name": "stdout",
     "output_type": "stream",
     "text": [
      "zerodivisionerror\n",
      "finally will always execute\n"
     ]
    }
   ],
   "source": [
    "try:\n",
    "    a=7/0\n",
    "except:\n",
    "    print('zerodivisionerror')\n",
    "finally:\n",
    "    print('finally will always execute')"
   ]
  },
  {
   "cell_type": "code",
   "execution_count": 1,
   "id": "2f7535a3-4e8c-4b91-9c08-c9ebee895500",
   "metadata": {},
   "outputs": [
    {
     "name": "stdin",
     "output_type": "stream",
     "text": [
      "enter the number 23\n"
     ]
    },
    {
     "name": "stdout",
     "output_type": "stream",
     "text": [
      "123\n"
     ]
    }
   ],
   "source": [
    "x = int(input('enter the number'))\n",
    "\n",
    "if x < 0:\n",
    "    raise Exception(\"Sorry, no numbers below zero\")\n",
    "else:\n",
    "    print (x+100)"
   ]
  },
  {
   "cell_type": "code",
   "execution_count": 2,
   "id": "9123fd47-0ff3-4ffe-ae96-5cf5efe628dd",
   "metadata": {},
   "outputs": [
    {
     "name": "stdin",
     "output_type": "stream",
     "text": [
      "enter the number -34\n"
     ]
    },
    {
     "ename": "Exception",
     "evalue": "Sorry, no numbers below zero",
     "output_type": "error",
     "traceback": [
      "\u001b[0;31m---------------------------------------------------------------------------\u001b[0m",
      "\u001b[0;31mException\u001b[0m                                 Traceback (most recent call last)",
      "Cell \u001b[0;32mIn[2], line 4\u001b[0m\n\u001b[1;32m      1\u001b[0m x \u001b[38;5;241m=\u001b[39m \u001b[38;5;28mint\u001b[39m(\u001b[38;5;28minput\u001b[39m(\u001b[38;5;124m'\u001b[39m\u001b[38;5;124menter the number\u001b[39m\u001b[38;5;124m'\u001b[39m))\n\u001b[1;32m      3\u001b[0m \u001b[38;5;28;01mif\u001b[39;00m x \u001b[38;5;241m<\u001b[39m \u001b[38;5;241m0\u001b[39m:\n\u001b[0;32m----> 4\u001b[0m     \u001b[38;5;28;01mraise\u001b[39;00m \u001b[38;5;167;01mException\u001b[39;00m(\u001b[38;5;124m\"\u001b[39m\u001b[38;5;124mSorry, no numbers below zero\u001b[39m\u001b[38;5;124m\"\u001b[39m)\n\u001b[1;32m      5\u001b[0m \u001b[38;5;28;01melse\u001b[39;00m:\n\u001b[1;32m      6\u001b[0m     \u001b[38;5;28mprint\u001b[39m (x\u001b[38;5;241m+\u001b[39m\u001b[38;5;241m100\u001b[39m)\n",
      "\u001b[0;31mException\u001b[0m: Sorry, no numbers below zero"
     ]
    }
   ],
   "source": [
    "x = int(input('enter the number'))\n",
    "\n",
    "if x < 0:\n",
    "    raise Exception(\"Sorry, no numbers below zero\")\n",
    "else:\n",
    "    print (x+100)"
   ]
  },
  {
   "cell_type": "markdown",
   "id": "645e47e8-3ef8-4491-8551-c118973050c1",
   "metadata": {},
   "source": [
    "5.what's custom exception in python? And why do we need custom exception in python?Explain with an example."
   ]
  },
  {
   "cell_type": "markdown",
   "id": "a9cd0d2a-5d03-47af-853a-3f48f9c79e0e",
   "metadata": {},
   "source": [
    "A Python custom exception is a user-defined exception that is created by the programmer to handle specific error scenarios in a program. Python allows you to create your custom exception by subclassing the built-in Exception class or any of its subclasses."
   ]
  },
  {
   "cell_type": "markdown",
   "id": "5bcd9929-1093-45ee-abd2-57fd51ef37e7",
   "metadata": {},
   "source": [
    "6.create a custom exception class and usse it to hanlde exception."
   ]
  },
  {
   "cell_type": "code",
   "execution_count": 1,
   "id": "0826c4bd-ef2c-452b-a7f4-ebdc3ea9a210",
   "metadata": {},
   "outputs": [],
   "source": [
    "class myerror(Exception):\n",
    "    def __init__(self,msg):\n",
    "        \n",
    "        self.msg=msg"
   ]
  },
  {
   "cell_type": "code",
   "execution_count": 2,
   "id": "da298c4d-2baf-42bb-a8d5-243eff24c825",
   "metadata": {},
   "outputs": [],
   "source": [
    "def erro_defined(x):\n",
    "    if x<0:\n",
    "        raise myerror('the value is lesss than zero')\n",
    "    elif x>0:\n",
    "        raise myerror('the value is valid')\n",
    "    else:\n",
    "        print('x can\"t be zero')"
   ]
  },
  {
   "cell_type": "code",
   "execution_count": 3,
   "id": "13259a37-2532-4923-b89d-1e885fc07008",
   "metadata": {},
   "outputs": [
    {
     "name": "stdin",
     "output_type": "stream",
     "text": [
      "enter the value of x 3\n"
     ]
    },
    {
     "name": "stdout",
     "output_type": "stream",
     "text": [
      "there is some mistake\n"
     ]
    }
   ],
   "source": [
    "try:\n",
    "    x=int(input('enter the value of x'))\n",
    "    erro_defined(x)   \n",
    "except Exception as e:\n",
    "    print('there is some mistake')\n",
    "    \n",
    "    "
   ]
  },
  {
   "cell_type": "code",
   "execution_count": null,
   "id": "d2c593f6-ec68-477a-9daa-a27f709133eb",
   "metadata": {},
   "outputs": [],
   "source": []
  }
 ],
 "metadata": {
  "kernelspec": {
   "display_name": "Python 3 (ipykernel)",
   "language": "python",
   "name": "python3"
  },
  "language_info": {
   "codemirror_mode": {
    "name": "ipython",
    "version": 3
   },
   "file_extension": ".py",
   "mimetype": "text/x-python",
   "name": "python",
   "nbconvert_exporter": "python",
   "pygments_lexer": "ipython3",
   "version": "3.10.8"
  }
 },
 "nbformat": 4,
 "nbformat_minor": 5
}
